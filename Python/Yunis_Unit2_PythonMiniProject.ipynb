{
  "nbformat": 4,
  "nbformat_minor": 0,
  "metadata": {
    "colab": {
      "name": "Yunis-Unit2-PythonMiniProject.ipynb",
      "provenance": []
    },
    "kernelspec": {
      "name": "python3",
      "display_name": "Python 3"
    }
  },
  "cells": [
    {
      "cell_type": "code",
      "metadata": {
        "colab": {
          "base_uri": "https://localhost:8080/"
        },
        "id": "x2tLzQKoW6xl",
        "outputId": "1224d4f2-d78d-422e-f6cb-127d03a04871"
      },
      "source": [
        "# check even/odd number using loop #\n",
        "\n",
        "num = int(input(\"Let see if this number is even or odd \"))\n",
        "if (num % 2) == 0:\n",
        "   print(\"{0} is Even\".format(num))\n",
        "else:\n",
        "   print(\"{0} is Odd\".format(num))"
      ],
      "execution_count": null,
      "outputs": [
        {
          "output_type": "stream",
          "text": [
            "Let see if this number is even or odd 51\n",
            "51 is Odd\n"
          ],
          "name": "stdout"
        }
      ]
    },
    {
      "cell_type": "code",
      "metadata": {
        "colab": {
          "base_uri": "https://localhost:8080/"
        },
        "id": "AqE4CH0kXNYP",
        "outputId": "ac7fb41c-36ea-4662-becf-4d541ecd537f"
      },
      "source": [
        "# check number if multiple of 4 #\n",
        "\n",
        "def multiple(m, n):\n",
        "\treturn True if m % n == 0 else False\n",
        "m = int(input(\"does this divide by 4, enter any number: \"))\n",
        "print(multiple(m, 4))"
      ],
      "execution_count": 17,
      "outputs": [
        {
          "output_type": "stream",
          "text": [
            "does this divide by 4, enter any number: 5\n",
            "False\n"
          ],
          "name": "stdout"
        }
      ]
    }
  ]
}