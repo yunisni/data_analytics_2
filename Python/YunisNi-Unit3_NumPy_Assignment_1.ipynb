{
  "nbformat": 4,
  "nbformat_minor": 0,
  "metadata": {
    "colab": {
      "name": "Unit3_NumPy_Assignment_1.ipynb",
      "provenance": [],
      "collapsed_sections": [],
      "toc_visible": true
    },
    "kernelspec": {
      "name": "python3",
      "display_name": "Python 3"
    }
  },
  "cells": [
    {
      "cell_type": "markdown",
      "metadata": {
        "id": "Vgs8Kp4TidFQ"
      },
      "source": [
        "# Unit 3 - Advanced Python - NumPy - Assingment #1  "
      ]
    },
    {
      "cell_type": "markdown",
      "metadata": {
        "id": "_Hq7Ny79iwgD"
      },
      "source": [
        "## 1. Environment Set up"
      ]
    },
    {
      "cell_type": "code",
      "metadata": {
        "id": "lotvpVpvlKsR"
      },
      "source": [
        "#Dataset from summer Olympic London, year 2012\r\n",
        "import numpy as np\r\n",
        "np_olympic_country = np.array(['GBR','China','RUS','US','KOR','JPN','GER'])\r\n",
        "np_olympic_country_Gold = np.array([29,38,24,46,13,7,11])\r\n",
        "np_olympic_country_Silver = np.array([17,28,25,28,8,14,11])\r\n",
        "np_olympic_country_Bronze = np.array([19,22,32,29,7,17,14])"
      ],
      "execution_count": 21,
      "outputs": []
    },
    {
      "cell_type": "markdown",
      "metadata": {
        "id": "io_27RSlizno"
      },
      "source": [
        "## 2.\tFind country with maximum gold"
      ]
    },
    {
      "cell_type": "code",
      "metadata": {
        "id": "Dh1o5cAylSHB",
        "colab": {
          "base_uri": "https://localhost:8080/"
        },
        "outputId": "6dbb0b26-daa2-4704-ad32-69b4c6b8da22"
      },
      "source": [
        "print('country with maximum gold metal is',np.max(np_olympic_country_Gold))\n",
        "print('country with maximum gold metal count is:', highest[0])\n",
        "print('country with most gold metal is:', np_olympic_country[highest])"
      ],
      "execution_count": 19,
      "outputs": [
        {
          "output_type": "stream",
          "text": [
            "country with maximum gold metal is 46\n",
            "country with maximum gold metal count is: [3]\n",
            "country with most gold metal is: ['US']\n"
          ],
          "name": "stdout"
        }
      ]
    },
    {
      "cell_type": "markdown",
      "metadata": {
        "id": "BJWWtFXbEVie"
      },
      "source": [
        ""
      ]
    },
    {
      "cell_type": "markdown",
      "metadata": {
        "id": "DAW8m8IQjRyR"
      },
      "source": [
        "## 3.\tFind countries with more than 20 gold medals"
      ]
    },
    {
      "cell_type": "code",
      "metadata": {
        "id": "guULMEhrjYtT",
        "colab": {
          "base_uri": "https://localhost:8080/"
        },
        "outputId": "3fc89ee9-b930-40fc-dfff-d6276b3381ee"
      },
      "source": [
        "print('country with most gold metal is:', np_olympic_country[highest])\n",
        "np_olympic_country_Gold[metal_than_20_more]\n",
        "x=np.where(np_olympic_country_Gold>20)\n",
        "\n",
        "print('these are the list of country of 20 or more:',np_olympic_country[x])"
      ],
      "execution_count": 20,
      "outputs": [
        {
          "output_type": "stream",
          "text": [
            "country with most gold metal is: ['US']\n",
            "these are the list of country of 20 or more: ['GBR' 'China' 'RUS' 'US']\n"
          ],
          "name": "stdout"
        }
      ]
    }
  ]
}