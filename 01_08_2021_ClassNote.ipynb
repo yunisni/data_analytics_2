{
  "nbformat": 4,
  "nbformat_minor": 0,
  "metadata": {
    "colab": {
      "name": "01-08-2021_ClassNote.ipynb",
      "provenance": [],
      "authorship_tag": "ABX9TyMZvKRQvhe8PsZ4pkXFW8RH",
      "include_colab_link": true
    },
    "kernelspec": {
      "name": "python3",
      "display_name": "Python 3"
    }
  },
  "cells": [
    {
      "cell_type": "markdown",
      "metadata": {
        "id": "view-in-github",
        "colab_type": "text"
      },
      "source": [
        "<a href=\"https://colab.research.google.com/github/yunisni/data_analytics_2/blob/main/01_08_2021_ClassNote.ipynb\" target=\"_parent\"><img src=\"https://colab.research.google.com/assets/colab-badge.svg\" alt=\"Open In Colab\"/></a>"
      ]
    },
    {
      "cell_type": "code",
      "metadata": {
        "colab": {
          "base_uri": "https://localhost:8080/"
        },
        "id": "29L9dnJoT4xi",
        "outputId": "f70af1d8-1dcb-4164-98a3-0ed97823d8f9"
      },
      "source": [
        "# write if-elif statement #\n",
        "\n",
        "age=48\n",
        "if age <23:\n",
        "    print(\"they will have a free chocolate\")\n",
        "elif age<45:\n",
        "    print(\"they will have a free drink and chocolate\")\n",
        "else:\n",
        "    print(\"they will have a free candy\")"
      ],
      "execution_count": null,
      "outputs": [
        {
          "output_type": "stream",
          "text": [
            "they will have a free candy\n"
          ],
          "name": "stdout"
        }
      ]
    },
    {
      "cell_type": "code",
      "metadata": {
        "colab": {
          "base_uri": "https://localhost:8080/"
        },
        "id": "y9j9fa6W7x0w",
        "outputId": "3744e71a-2249-4993-e8b3-b68f69d71ae6"
      },
      "source": [
        "# number list looping#\n",
        "for x in range(1, 11):\n",
        "    print(x)\n",
        "\n",
        "L = ['1', '2','3']\n",
        "L2='4','5','6','7','8','9','10'\n",
        "\n",
        "print(L)\n",
        "if \"1\" in L:\n",
        "  print('1'+'st')\n",
        "if \"2\" in L:\n",
        "  print('2'+'nd')\n",
        "if \"3\" in L:\n",
        "  print('3'+'rd')\n",
        "else:\n",
        "    print(L2+'th')\n",
        "\n"
      ],
      "execution_count": null,
      "outputs": [
        {
          "output_type": "stream",
          "text": [
            "1\n",
            "2\n",
            "3\n",
            "4\n",
            "5\n",
            "6\n",
            "7\n",
            "8\n",
            "9\n",
            "10\n",
            "['1', '2', '3']\n",
            "1st\n",
            "2nd\n",
            "3rd\n"
          ],
          "name": "stdout"
        }
      ]
    },
    {
      "cell_type": "code",
      "metadata": {
        "id": "mKzBmLW1IbPC"
      },
      "source": [
        "D = {'name': 'Bob',\n",
        "     'age': 25,"
      ],
      "execution_count": null,
      "outputs": []
    },
    {
      "cell_type": "code",
      "metadata": {
        "colab": {
          "base_uri": "https://localhost:8080/"
        },
        "id": "YR_9sqsHeK-I",
        "outputId": "bf313018-47ef-456d-9bc7-38950a63aa9c"
      },
      "source": [
        "# write a grocery list #\n",
        "\n",
        "shopping_list = ['milk', 'cabbage', 'butter','cheese','jam']\n",
        "new_list='honey'\n",
        "\n",
        "if 'cheese' in shopping_list:\n",
        "    print(\"Yes, 'cheese' is in the shopping list\")\n",
        "if new_list not in shopping_list:\n",
        "    print(new_list.upper()+\", was not in the list, and I dont need it\")"
      ],
      "execution_count": null,
      "outputs": [
        {
          "output_type": "stream",
          "text": [
            "Yes, 'cheese' is in the shopping list\n",
            "HONEY, was not in the list, and I dont need it\n"
          ],
          "name": "stdout"
        }
      ]
    },
    {
      "cell_type": "code",
      "metadata": {
        "colab": {
          "base_uri": "https://localhost:8080/"
        },
        "id": "05O8Sl2R7pDm",
        "outputId": "32f4fd92-e9a2-4c27-91ce-efecac35d0ec"
      },
      "source": [
        "# dictionary #\n",
        "person_01 = {'name': 'Sponge Bob',\n",
        "     'age': 25,\n",
        "     'love': 'Chocolate',\n",
        "     'sleep': 'at 1 am everyday',\n",
        "     'talk about': 'his squarepants everyday'}\n",
        "print(person_01)\n",
        "print('Howdy!', person_01['name']+' hows the weather today')\n",
        "for key,value in person_01.items():\n",
        "  print(key,value)\n",
        "  print(key)\n",
        "  print(value)\n",
        "\n"
      ],
      "execution_count": null,
      "outputs": [
        {
          "output_type": "stream",
          "text": [
            "{'name': 'Sponge Bob', 'age': 25, 'love': 'Chocolate', 'sleep': 'at 1 am everyday', 'talk about': 'his squarepants everyday'}\n",
            "Howdy! Sponge Bob hows the weather today\n",
            "name Sponge Bob\n",
            "name\n",
            "Sponge Bob\n",
            "age 25\n",
            "age\n",
            "25\n",
            "love Chocolate\n",
            "love\n",
            "Chocolate\n",
            "sleep at 1 am everyday\n",
            "sleep\n",
            "at 1 am everyday\n",
            "talk about his squarepants everyday\n",
            "talk about\n",
            "his squarepants everyday\n"
          ],
          "name": "stdout"
        }
      ]
    },
    {
      "cell_type": "code",
      "metadata": {
        "colab": {
          "base_uri": "https://localhost:8080/"
        },
        "id": "dSpU-n-ef-2Z",
        "outputId": "f704f251-b93f-4528-ce87-1d140f5aafcd"
      },
      "source": [
        "# dictionary #\n",
        "person_01 = {'name': 'Bob',\n",
        "     'age': 25,\n",
        "     'job': 'Dev',\n",
        "     'city': 'New York',\n",
        "     'love': 'Chocolate',}\n",
        "\n",
        "person_02 = {'name': 'Sponage',\n",
        "     'age': 50,\n",
        "     'job': 'Sea Fish',\n",
        "     'city': 'Waikiki',\n",
        "     'love': 'seaweed',}\n",
        "\n",
        "person_03 = {'name': 'Elsa',\n",
        "     'age': 6,\n",
        "     'job': 'Princess',\n",
        "     'city': 'Disney',\n",
        "     'love': 'snowflake',}\n",
        "\n",
        "person_04 = {'name': 'Lion',\n",
        "     'age': 12,\n",
        "     'job': 'King',\n",
        "     'city': 'Mountain',\n",
        "     'love': 'Chicken',}\n",
        "\n",
        "person_05 = {'name': 'Martin',\n",
        "     'age': 12,\n",
        "     'job': 'Acc',\n",
        "     'city': 'Cash Valley',\n",
        "     'love': 'Green Ticket',}\n",
        "\n",
        "print(person_03)\n",
        "print(person_01['name'])\n",
        "print(person_01['age'])\n",
        "print(person_02['name'])\n",
        "print(person_02['age'])\n",
        "print(person_03['name'],person_03['job']+' hello')\n",
        "for x in person_04:\n",
        "    print(x)\n",
        "\n",
        "for key,value in person_05.items():\n",
        "  print(key,value)\n",
        "  print(key)\n",
        "  print(value)\n",
        "\n"
      ],
      "execution_count": null,
      "outputs": [
        {
          "output_type": "stream",
          "text": [
            "{'name': 'Elsa', 'age': 6, 'job': 'Princess', 'city': 'Disney', 'love': 'snowflake'}\n",
            "Bob\n",
            "25\n",
            "Sponage\n",
            "50\n",
            "Elsa Princess hello\n",
            "name\n",
            "age\n",
            "job\n",
            "city\n",
            "love\n",
            "name Martin\n",
            "name\n",
            "Martin\n",
            "age 12\n",
            "age\n",
            "12\n",
            "job Acc\n",
            "job\n",
            "Acc\n",
            "city Cash Valley\n",
            "city\n",
            "Cash Valley\n",
            "love Green Ticket\n",
            "love\n",
            "Green Ticket\n"
          ],
          "name": "stdout"
        }
      ]
    },
    {
      "cell_type": "code",
      "metadata": {
        "colab": {
          "base_uri": "https://localhost:8080/"
        },
        "id": "5w-kb1QhvXLK",
        "outputId": "0cef62cf-a896-430a-9991-938235da5a6e"
      },
      "source": [
        "# check even/odd number using loop #\n",
        "\n",
        "num = int(input(\"Let see if this number is even or odd \"))\n",
        "if (num % 2) == 0:\n",
        "   print(\"{0} is Even\".format(num))\n",
        "else:\n",
        "   print(\"{0} is Odd\".format(num))"
      ],
      "execution_count": null,
      "outputs": [
        {
          "output_type": "stream",
          "text": [
            "Let see if this number is even or odd 58\n",
            "58 is Even\n"
          ],
          "name": "stdout"
        }
      ]
    },
    {
      "cell_type": "code",
      "metadata": {
        "colab": {
          "base_uri": "https://localhost:8080/"
        },
        "id": "mac6mA87P66r",
        "outputId": "ccb928b5-e484-4d35-97d9-67a3716d6c8a"
      },
      "source": [
        "# function #\n",
        "def city():\n",
        "  print('Seaweed, Greenland')\n",
        "  print('Butter, Land of Lakes')\n",
        "  print('Squash, Townsend')\n",
        "  \n",
        "\n",
        "def city1(name):\n",
        "    print('city1,', name)\n",
        "hello('Food Cities!')\n",
        "\n",
        "def city2(name, color):\n",
        "    print(name, 'is', color)\n",
        "\n",
        "city2('Food City', 'colorful!')\n",
        "\n",
        "city()"
      ],
      "execution_count": null,
      "outputs": [
        {
          "output_type": "stream",
          "text": [
            "Hello, Food Cities!\n",
            "Food City is colorful!\n",
            "Seaweed, Greenland\n",
            "Butter, Land of Lakes\n",
            "Squash, Townsend\n"
          ],
          "name": "stdout"
        }
      ]
    }
  ]
}